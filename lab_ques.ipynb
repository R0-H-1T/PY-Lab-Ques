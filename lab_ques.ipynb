{
 "cells": [
  {
   "cell_type": "markdown",
   "metadata": {},
   "source": [
    "# 1 List\n",
    "Is the given list divisble by 3 or not "
   ]
  },
  {
   "cell_type": "code",
   "execution_count": 2,
   "metadata": {},
   "outputs": [
    {
     "name": "stdout",
     "output_type": "stream",
     "text": [
      "['Divisible', 'Not', 'Not', 'Divisible', 'Divisible']\n"
     ]
    }
   ],
   "source": [
    "my_list = [12, 34, -1, 9, 12, 9]\n",
    "\n",
    "print(['Divisible' if num%3==0 else 'Not' for num in my_list])\n"
   ]
  },
  {
   "cell_type": "code",
   "execution_count": 9,
   "metadata": {},
   "outputs": [
    {
     "name": "stdout",
     "output_type": "stream",
     "text": [
      "[144, 1156, -1, 9, 144]\n"
     ]
    }
   ],
   "source": [
    "print([num**2 if num%2==0 else num for num in my_list])"
   ]
  },
  {
   "cell_type": "code",
   "execution_count": 10,
   "metadata": {},
   "outputs": [
    {
     "name": "stdout",
     "output_type": "stream",
     "text": [
      "58\n"
     ]
    }
   ],
   "source": [
    "sum = 0\n",
    "for num in my_list:\n",
    "    if num%2==0: sum+=num\n",
    "\n",
    "print(sum)"
   ]
  },
  {
   "cell_type": "code",
   "execution_count": 12,
   "metadata": {},
   "outputs": [
    {
     "name": "stdout",
     "output_type": "stream",
     "text": [
      "{9, 34, 12, -1}\n"
     ]
    }
   ],
   "source": [
    "# Remove duplicate numbers in the list \n",
    "\n",
    "rm_dups = set(my_list)\n",
    "print(rm_dups)"
   ]
  },
  {
   "cell_type": "markdown",
   "metadata": {},
   "source": [
    "# Dictionary"
   ]
  },
  {
   "cell_type": "code",
   "execution_count": 16,
   "metadata": {},
   "outputs": [
    {
     "name": "stdout",
     "output_type": "stream",
     "text": [
      "{'Virat Kohli': '5 November 1988', 'Umesh Yadav': '25 October 1987', 'Manish Pandey': '10 September 1989', 'Rohit Sharma': '30 April 1987', 'Ravindra Jadeja': '6 December 1988', 'Hardik Pandya': '11 October 1993'}\n",
      "5 November 1988\n"
     ]
    }
   ],
   "source": [
    "\n",
    "emps = {\n",
    "    'Virat Kohli': '5 November 1988',\n",
    "    'Umesh Yadav': '25 October 1987',\n",
    "    'Manish Pandey': '10 September 1989',\n",
    "    'Rohit Sharma': '30 April 1987', \n",
    "    'Ravindra Jadeja': '6 December 1988', \n",
    "    'Hardik Pandya':'11 October 1993'\n",
    "}\n",
    "\n",
    "\n",
    "def return_birthyear(name):\n",
    "    if name in emps: return emps[name]\n",
    "    else: return 'Employee not found'\n",
    "\n",
    "    \n",
    "\n",
    "\n",
    "print(emps)\n",
    "print(return_birthyear('Virat Kohli'))"
   ]
  }
 ],
 "metadata": {
  "kernelspec": {
   "display_name": "Python 3",
   "language": "python",
   "name": "python3"
  },
  "language_info": {
   "codemirror_mode": {
    "name": "ipython",
    "version": 3
   },
   "file_extension": ".py",
   "mimetype": "text/x-python",
   "name": "python",
   "nbconvert_exporter": "python",
   "pygments_lexer": "ipython3",
   "version": "3.11.3"
  },
  "orig_nbformat": 4
 },
 "nbformat": 4,
 "nbformat_minor": 2
}
